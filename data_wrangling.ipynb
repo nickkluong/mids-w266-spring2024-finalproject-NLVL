{
  "nbformat": 4,
  "nbformat_minor": 0,
  "metadata": {
    "colab": {
      "provenance": [],
      "gpuType": "T4"
    },
    "kernelspec": {
      "name": "python3",
      "display_name": "Python 3"
    },
    "language_info": {
      "name": "python"
    },
    "accelerator": "GPU"
  },
  "cells": [
    {
      "cell_type": "code",
      "execution_count": 1,
      "metadata": {
        "id": "CrPwzBFl0nn9"
      },
      "outputs": [],
      "source": [
        "import pandas as pd\n",
        "import numpy as np\n"
      ]
    },
    {
      "cell_type": "markdown",
      "source": [
        "# Loading the training data"
      ],
      "metadata": {
        "id": "Zy_E0Jf51a4l"
      }
    },
    {
      "cell_type": "markdown",
      "source": [
        "Loading the list of foods and description/ingredients list from the USDA (Source: https://fdc.nal.usda.gov/download-datasets.html)"
      ],
      "metadata": {
        "id": "ZrIYhRKN46Mv"
      }
    },
    {
      "cell_type": "code",
      "source": [
        "branded_food_cols = [\"fdc_id\",\"brand_owner\",\"brand_name\",\"ingredients\",\"not_a_significant_source_of\",\"branded_food_category\"]"
      ],
      "metadata": {
        "id": "g70ZFaxG42uZ"
      },
      "execution_count": 2,
      "outputs": []
    },
    {
      "cell_type": "code",
      "source": [
        "df_branded_food = pd.read_csv(\"branded_food.csv\", usecols = branded_food_cols, on_bad_lines = 'skip')"
      ],
      "metadata": {
        "colab": {
          "base_uri": "https://localhost:8080/"
        },
        "id": "7uLnqr6_1WCQ",
        "outputId": "ba632c0e-d066-4a1e-c9d0-8708906715db"
      },
      "execution_count": 8,
      "outputs": [
        {
          "output_type": "stream",
          "name": "stderr",
          "text": [
            "<ipython-input-8-82944e97e487>:1: DtypeWarning: Columns (2) have mixed types. Specify dtype option on import or set low_memory=False.\n",
            "  df_branded_food = pd.read_csv(\"branded_food.csv\", usecols = branded_food_cols, on_bad_lines = 'skip')\n"
          ]
        }
      ]
    },
    {
      "cell_type": "code",
      "source": [
        "df_branded_food.head()"
      ],
      "metadata": {
        "id": "0RxYqo7Q6Dfl",
        "colab": {
          "base_uri": "https://localhost:8080/",
          "height": 328
        },
        "outputId": "c039ab01-e37b-45e3-9340-a062d6303863"
      },
      "execution_count": 9,
      "outputs": [
        {
          "output_type": "execute_result",
          "data": {
            "text/plain": [
              "    fdc_id                               brand_owner brand_name  \\\n",
              "0  1105904  Richardson Oilseed Products (US) Limited        NaN   \n",
              "1  1105905                     CAMPBELL SOUP COMPANY        NaN   \n",
              "2  1105906                     CAMPBELL SOUP COMPANY        NaN   \n",
              "3  1105907                     CAMPBELL SOUP COMPANY        NaN   \n",
              "4  1105908                     CAMPBELL SOUP COMPANY        NaN   \n",
              "\n",
              "                                         ingredients  \\\n",
              "0                                      Vegetable Oil   \n",
              "1  INGREDIENTS: BEEF STOCK, CONTAINS LESS THAN 2%...   \n",
              "2  INGREDIENTS: CLAM STOCK, POTATOES, CLAMS, CREA...   \n",
              "3  INGREDIENTS: WATER, CREAM, BROCCOLI, CELERY, V...   \n",
              "4  INGREDIENTS: CHICKEN STOCK, CONTAINS LESS THAN...   \n",
              "\n",
              "   not_a_significant_source_of  branded_food_category  \n",
              "0                          NaN            Oils Edible  \n",
              "1                          NaN  Herbs/Spices/Extracts  \n",
              "2                          NaN         Prepared Soups  \n",
              "3                          NaN         Prepared Soups  \n",
              "4                          NaN  Herbs/Spices/Extracts  "
            ],
            "text/html": [
              "\n",
              "  <div id=\"df-80930995-6b97-4a00-b41d-04b90c85a20a\" class=\"colab-df-container\">\n",
              "    <div>\n",
              "<style scoped>\n",
              "    .dataframe tbody tr th:only-of-type {\n",
              "        vertical-align: middle;\n",
              "    }\n",
              "\n",
              "    .dataframe tbody tr th {\n",
              "        vertical-align: top;\n",
              "    }\n",
              "\n",
              "    .dataframe thead th {\n",
              "        text-align: right;\n",
              "    }\n",
              "</style>\n",
              "<table border=\"1\" class=\"dataframe\">\n",
              "  <thead>\n",
              "    <tr style=\"text-align: right;\">\n",
              "      <th></th>\n",
              "      <th>fdc_id</th>\n",
              "      <th>brand_owner</th>\n",
              "      <th>brand_name</th>\n",
              "      <th>ingredients</th>\n",
              "      <th>not_a_significant_source_of</th>\n",
              "      <th>branded_food_category</th>\n",
              "    </tr>\n",
              "  </thead>\n",
              "  <tbody>\n",
              "    <tr>\n",
              "      <th>0</th>\n",
              "      <td>1105904</td>\n",
              "      <td>Richardson Oilseed Products (US) Limited</td>\n",
              "      <td>NaN</td>\n",
              "      <td>Vegetable Oil</td>\n",
              "      <td>NaN</td>\n",
              "      <td>Oils Edible</td>\n",
              "    </tr>\n",
              "    <tr>\n",
              "      <th>1</th>\n",
              "      <td>1105905</td>\n",
              "      <td>CAMPBELL SOUP COMPANY</td>\n",
              "      <td>NaN</td>\n",
              "      <td>INGREDIENTS: BEEF STOCK, CONTAINS LESS THAN 2%...</td>\n",
              "      <td>NaN</td>\n",
              "      <td>Herbs/Spices/Extracts</td>\n",
              "    </tr>\n",
              "    <tr>\n",
              "      <th>2</th>\n",
              "      <td>1105906</td>\n",
              "      <td>CAMPBELL SOUP COMPANY</td>\n",
              "      <td>NaN</td>\n",
              "      <td>INGREDIENTS: CLAM STOCK, POTATOES, CLAMS, CREA...</td>\n",
              "      <td>NaN</td>\n",
              "      <td>Prepared Soups</td>\n",
              "    </tr>\n",
              "    <tr>\n",
              "      <th>3</th>\n",
              "      <td>1105907</td>\n",
              "      <td>CAMPBELL SOUP COMPANY</td>\n",
              "      <td>NaN</td>\n",
              "      <td>INGREDIENTS: WATER, CREAM, BROCCOLI, CELERY, V...</td>\n",
              "      <td>NaN</td>\n",
              "      <td>Prepared Soups</td>\n",
              "    </tr>\n",
              "    <tr>\n",
              "      <th>4</th>\n",
              "      <td>1105908</td>\n",
              "      <td>CAMPBELL SOUP COMPANY</td>\n",
              "      <td>NaN</td>\n",
              "      <td>INGREDIENTS: CHICKEN STOCK, CONTAINS LESS THAN...</td>\n",
              "      <td>NaN</td>\n",
              "      <td>Herbs/Spices/Extracts</td>\n",
              "    </tr>\n",
              "  </tbody>\n",
              "</table>\n",
              "</div>\n",
              "    <div class=\"colab-df-buttons\">\n",
              "\n",
              "  <div class=\"colab-df-container\">\n",
              "    <button class=\"colab-df-convert\" onclick=\"convertToInteractive('df-80930995-6b97-4a00-b41d-04b90c85a20a')\"\n",
              "            title=\"Convert this dataframe to an interactive table.\"\n",
              "            style=\"display:none;\">\n",
              "\n",
              "  <svg xmlns=\"http://www.w3.org/2000/svg\" height=\"24px\" viewBox=\"0 -960 960 960\">\n",
              "    <path d=\"M120-120v-720h720v720H120Zm60-500h600v-160H180v160Zm220 220h160v-160H400v160Zm0 220h160v-160H400v160ZM180-400h160v-160H180v160Zm440 0h160v-160H620v160ZM180-180h160v-160H180v160Zm440 0h160v-160H620v160Z\"/>\n",
              "  </svg>\n",
              "    </button>\n",
              "\n",
              "  <style>\n",
              "    .colab-df-container {\n",
              "      display:flex;\n",
              "      gap: 12px;\n",
              "    }\n",
              "\n",
              "    .colab-df-convert {\n",
              "      background-color: #E8F0FE;\n",
              "      border: none;\n",
              "      border-radius: 50%;\n",
              "      cursor: pointer;\n",
              "      display: none;\n",
              "      fill: #1967D2;\n",
              "      height: 32px;\n",
              "      padding: 0 0 0 0;\n",
              "      width: 32px;\n",
              "    }\n",
              "\n",
              "    .colab-df-convert:hover {\n",
              "      background-color: #E2EBFA;\n",
              "      box-shadow: 0px 1px 2px rgba(60, 64, 67, 0.3), 0px 1px 3px 1px rgba(60, 64, 67, 0.15);\n",
              "      fill: #174EA6;\n",
              "    }\n",
              "\n",
              "    .colab-df-buttons div {\n",
              "      margin-bottom: 4px;\n",
              "    }\n",
              "\n",
              "    [theme=dark] .colab-df-convert {\n",
              "      background-color: #3B4455;\n",
              "      fill: #D2E3FC;\n",
              "    }\n",
              "\n",
              "    [theme=dark] .colab-df-convert:hover {\n",
              "      background-color: #434B5C;\n",
              "      box-shadow: 0px 1px 3px 1px rgba(0, 0, 0, 0.15);\n",
              "      filter: drop-shadow(0px 1px 2px rgba(0, 0, 0, 0.3));\n",
              "      fill: #FFFFFF;\n",
              "    }\n",
              "  </style>\n",
              "\n",
              "    <script>\n",
              "      const buttonEl =\n",
              "        document.querySelector('#df-80930995-6b97-4a00-b41d-04b90c85a20a button.colab-df-convert');\n",
              "      buttonEl.style.display =\n",
              "        google.colab.kernel.accessAllowed ? 'block' : 'none';\n",
              "\n",
              "      async function convertToInteractive(key) {\n",
              "        const element = document.querySelector('#df-80930995-6b97-4a00-b41d-04b90c85a20a');\n",
              "        const dataTable =\n",
              "          await google.colab.kernel.invokeFunction('convertToInteractive',\n",
              "                                                    [key], {});\n",
              "        if (!dataTable) return;\n",
              "\n",
              "        const docLinkHtml = 'Like what you see? Visit the ' +\n",
              "          '<a target=\"_blank\" href=https://colab.research.google.com/notebooks/data_table.ipynb>data table notebook</a>'\n",
              "          + ' to learn more about interactive tables.';\n",
              "        element.innerHTML = '';\n",
              "        dataTable['output_type'] = 'display_data';\n",
              "        await google.colab.output.renderOutput(dataTable, element);\n",
              "        const docLink = document.createElement('div');\n",
              "        docLink.innerHTML = docLinkHtml;\n",
              "        element.appendChild(docLink);\n",
              "      }\n",
              "    </script>\n",
              "  </div>\n",
              "\n",
              "\n",
              "<div id=\"df-901fc0df-373a-4cf5-82e1-e2b60301f2eb\">\n",
              "  <button class=\"colab-df-quickchart\" onclick=\"quickchart('df-901fc0df-373a-4cf5-82e1-e2b60301f2eb')\"\n",
              "            title=\"Suggest charts\"\n",
              "            style=\"display:none;\">\n",
              "\n",
              "<svg xmlns=\"http://www.w3.org/2000/svg\" height=\"24px\"viewBox=\"0 0 24 24\"\n",
              "     width=\"24px\">\n",
              "    <g>\n",
              "        <path d=\"M19 3H5c-1.1 0-2 .9-2 2v14c0 1.1.9 2 2 2h14c1.1 0 2-.9 2-2V5c0-1.1-.9-2-2-2zM9 17H7v-7h2v7zm4 0h-2V7h2v10zm4 0h-2v-4h2v4z\"/>\n",
              "    </g>\n",
              "</svg>\n",
              "  </button>\n",
              "\n",
              "<style>\n",
              "  .colab-df-quickchart {\n",
              "      --bg-color: #E8F0FE;\n",
              "      --fill-color: #1967D2;\n",
              "      --hover-bg-color: #E2EBFA;\n",
              "      --hover-fill-color: #174EA6;\n",
              "      --disabled-fill-color: #AAA;\n",
              "      --disabled-bg-color: #DDD;\n",
              "  }\n",
              "\n",
              "  [theme=dark] .colab-df-quickchart {\n",
              "      --bg-color: #3B4455;\n",
              "      --fill-color: #D2E3FC;\n",
              "      --hover-bg-color: #434B5C;\n",
              "      --hover-fill-color: #FFFFFF;\n",
              "      --disabled-bg-color: #3B4455;\n",
              "      --disabled-fill-color: #666;\n",
              "  }\n",
              "\n",
              "  .colab-df-quickchart {\n",
              "    background-color: var(--bg-color);\n",
              "    border: none;\n",
              "    border-radius: 50%;\n",
              "    cursor: pointer;\n",
              "    display: none;\n",
              "    fill: var(--fill-color);\n",
              "    height: 32px;\n",
              "    padding: 0;\n",
              "    width: 32px;\n",
              "  }\n",
              "\n",
              "  .colab-df-quickchart:hover {\n",
              "    background-color: var(--hover-bg-color);\n",
              "    box-shadow: 0 1px 2px rgba(60, 64, 67, 0.3), 0 1px 3px 1px rgba(60, 64, 67, 0.15);\n",
              "    fill: var(--button-hover-fill-color);\n",
              "  }\n",
              "\n",
              "  .colab-df-quickchart-complete:disabled,\n",
              "  .colab-df-quickchart-complete:disabled:hover {\n",
              "    background-color: var(--disabled-bg-color);\n",
              "    fill: var(--disabled-fill-color);\n",
              "    box-shadow: none;\n",
              "  }\n",
              "\n",
              "  .colab-df-spinner {\n",
              "    border: 2px solid var(--fill-color);\n",
              "    border-color: transparent;\n",
              "    border-bottom-color: var(--fill-color);\n",
              "    animation:\n",
              "      spin 1s steps(1) infinite;\n",
              "  }\n",
              "\n",
              "  @keyframes spin {\n",
              "    0% {\n",
              "      border-color: transparent;\n",
              "      border-bottom-color: var(--fill-color);\n",
              "      border-left-color: var(--fill-color);\n",
              "    }\n",
              "    20% {\n",
              "      border-color: transparent;\n",
              "      border-left-color: var(--fill-color);\n",
              "      border-top-color: var(--fill-color);\n",
              "    }\n",
              "    30% {\n",
              "      border-color: transparent;\n",
              "      border-left-color: var(--fill-color);\n",
              "      border-top-color: var(--fill-color);\n",
              "      border-right-color: var(--fill-color);\n",
              "    }\n",
              "    40% {\n",
              "      border-color: transparent;\n",
              "      border-right-color: var(--fill-color);\n",
              "      border-top-color: var(--fill-color);\n",
              "    }\n",
              "    60% {\n",
              "      border-color: transparent;\n",
              "      border-right-color: var(--fill-color);\n",
              "    }\n",
              "    80% {\n",
              "      border-color: transparent;\n",
              "      border-right-color: var(--fill-color);\n",
              "      border-bottom-color: var(--fill-color);\n",
              "    }\n",
              "    90% {\n",
              "      border-color: transparent;\n",
              "      border-bottom-color: var(--fill-color);\n",
              "    }\n",
              "  }\n",
              "</style>\n",
              "\n",
              "  <script>\n",
              "    async function quickchart(key) {\n",
              "      const quickchartButtonEl =\n",
              "        document.querySelector('#' + key + ' button');\n",
              "      quickchartButtonEl.disabled = true;  // To prevent multiple clicks.\n",
              "      quickchartButtonEl.classList.add('colab-df-spinner');\n",
              "      try {\n",
              "        const charts = await google.colab.kernel.invokeFunction(\n",
              "            'suggestCharts', [key], {});\n",
              "      } catch (error) {\n",
              "        console.error('Error during call to suggestCharts:', error);\n",
              "      }\n",
              "      quickchartButtonEl.classList.remove('colab-df-spinner');\n",
              "      quickchartButtonEl.classList.add('colab-df-quickchart-complete');\n",
              "    }\n",
              "    (() => {\n",
              "      let quickchartButtonEl =\n",
              "        document.querySelector('#df-901fc0df-373a-4cf5-82e1-e2b60301f2eb button');\n",
              "      quickchartButtonEl.style.display =\n",
              "        google.colab.kernel.accessAllowed ? 'block' : 'none';\n",
              "    })();\n",
              "  </script>\n",
              "</div>\n",
              "    </div>\n",
              "  </div>\n"
            ],
            "application/vnd.google.colaboratory.intrinsic+json": {
              "type": "dataframe",
              "variable_name": "df_branded_food"
            }
          },
          "metadata": {},
          "execution_count": 9
        }
      ]
    },
    {
      "cell_type": "code",
      "source": [
        "df_branded_food.shape"
      ],
      "metadata": {
        "id": "IVrGYkOd6SiX",
        "colab": {
          "base_uri": "https://localhost:8080/"
        },
        "outputId": "e9ce2cfd-3b92-455f-d560-ae1309256e1c"
      },
      "execution_count": 10,
      "outputs": [
        {
          "output_type": "execute_result",
          "data": {
            "text/plain": [
              "(196802, 6)"
            ]
          },
          "metadata": {},
          "execution_count": 10
        }
      ]
    },
    {
      "cell_type": "markdown",
      "source": [
        "Loading the list of foods and their names"
      ],
      "metadata": {
        "id": "lCQVw0tP5sGY"
      }
    },
    {
      "cell_type": "markdown",
      "source": [
        "# Feature Engineering"
      ],
      "metadata": {
        "id": "wZjLgJjz6MHL"
      }
    },
    {
      "cell_type": "markdown",
      "source": [
        "## Flagging ingredients"
      ],
      "metadata": {
        "id": "QbFEg-3tNB9y"
      }
    },
    {
      "cell_type": "code",
      "source": [
        "food_ingredients = df_branded_food['ingredients']"
      ],
      "metadata": {
        "id": "ASuG69wU8AaH"
      },
      "execution_count": 11,
      "outputs": []
    },
    {
      "cell_type": "code",
      "source": [
        "word_to_search = 'Gluten'\n",
        "\n",
        "# Create a new column to flag rows containing the word\n",
        "df_branded_food['is_gluten'] = food_ingredients.str.contains(word_to_search, case=False).astype(bool)\n"
      ],
      "metadata": {
        "id": "vFjKow_n6Ovk"
      },
      "execution_count": 12,
      "outputs": []
    },
    {
      "cell_type": "code",
      "source": [
        "df_branded_food['is_gluten'].value_counts()"
      ],
      "metadata": {
        "id": "OtfS8kVJB03o",
        "colab": {
          "base_uri": "https://localhost:8080/"
        },
        "outputId": "1127ad3a-275c-4409-d3bd-3af08865e572"
      },
      "execution_count": 13,
      "outputs": [
        {
          "output_type": "execute_result",
          "data": {
            "text/plain": [
              "False    186521\n",
              "True      10281\n",
              "Name: is_gluten, dtype: int64"
            ]
          },
          "metadata": {},
          "execution_count": 13
        }
      ]
    },
    {
      "cell_type": "code",
      "source": [
        "meat_list= [\"Beef\", \"Pork\", \"Chicken\", \"Lamb\", \"Turkey\", \"Duck\", \"Goose\", \"Veal\", \"Venison\", \"Bison\", \"Rabbit\", \"Sausage\", \"Salami\", \"Ham\", \"Bacon\", \"Prosciutto\", \"Pancetta\", \"Chorizo\", \"Pepperoni\", \"Jerky\", \"Schnitzel\", \"Steak\", \"Rib\", \"Loin\", \"Chop\", \"Breast\", \"Thigh\", \"Wing\", \"Leg\", \"Drumstick\", \"Shank\", \"processed meats\", \"horsemeat\", \"poultry\", \"deer\", \"deli\", \"fowl\", \"pigmeat\", \"cow\", \"turkeys\", \"cows\", \"gravy\", \"cattle\", \"snail\", \"crocodile\", \"sheep\", \"sheepmeat\", \"sirloin\"]"
      ],
      "metadata": {
        "id": "4B_2EaYe-D0y"
      },
      "execution_count": 14,
      "outputs": []
    },
    {
      "cell_type": "code",
      "source": [
        "# Should probably split this out for pork / beef because of religious dietary restrictions\n",
        "\n",
        "words_to_search = meat_list\n",
        "\n",
        "pattern = '|'.join(words_to_search)\n",
        "\n",
        "df_branded_food['contains_meat'] = food_ingredients.str.contains(pattern, case=False).astype(bool)"
      ],
      "metadata": {
        "id": "WsDQ2HI28KOb"
      },
      "execution_count": 15,
      "outputs": []
    },
    {
      "cell_type": "code",
      "source": [
        "df_branded_food['contains_meat'].value_counts()"
      ],
      "metadata": {
        "id": "QfY7VbZ1APkR",
        "colab": {
          "base_uri": "https://localhost:8080/"
        },
        "outputId": "33b7ad28-94a0-4854-8a03-0ecc0dede1ae"
      },
      "execution_count": 16,
      "outputs": [
        {
          "output_type": "execute_result",
          "data": {
            "text/plain": [
              "False    141011\n",
              "True      55791\n",
              "Name: contains_meat, dtype: int64"
            ]
          },
          "metadata": {},
          "execution_count": 16
        }
      ]
    },
    {
      "cell_type": "code",
      "source": [
        "shellfish_food = [\"Shrimp\", \"Crab\", \"Lobster\", \"Clam\", \"Mussel\", \"Oyster\", \"Scallop\", \"Abalone\", \"Squid\", \"Octopus\", \"Cuttlefish\", \"Snail\", \"Conch\", \"Periwinkle\", \"Whelk\", \"Cockle\", \"Razor clam\", \"Geoduck\", \"Barnacle\", \"Sea urchin\", \"Sea cucumber\", \"Limpet\", \"Winkle\", \"Krill\", \"Prawn\", \"Langoustine\", \"Crawfish\", \"Crayfish\", \"Slipper lobster\", \"Horseshoe crab\", \"Mantis shrimp\", \"Sand dollar\", \"Sea snail\", \"Sea slug\", \"Sea squirt\", \"Trepang (sea cucumber)\", \"Chiton\", \"uni\", \"escargot\", \"crabmeat\",]"
      ],
      "metadata": {
        "id": "gTSB2HT4DK_i"
      },
      "execution_count": 17,
      "outputs": []
    },
    {
      "cell_type": "code",
      "source": [
        "words_to_search = shellfish_food\n",
        "\n",
        "pattern = '|'.join(words_to_search)\n",
        "\n",
        "df_branded_food['contains_shellfish'] = food_ingredients.str.contains(pattern, case=False).astype(bool)"
      ],
      "metadata": {
        "id": "B9sRy-AxByyG",
        "colab": {
          "base_uri": "https://localhost:8080/"
        },
        "outputId": "98f32ef0-f084-4763-ec97-416c3cd68948"
      },
      "execution_count": 18,
      "outputs": [
        {
          "output_type": "stream",
          "name": "stderr",
          "text": [
            "<ipython-input-18-3162bfa3cb0c>:5: UserWarning: This pattern is interpreted as a regular expression, and has match groups. To actually get the groups, use str.extract.\n",
            "  df_branded_food['contains_shellfish'] = food_ingredients.str.contains(pattern, case=False).astype(bool)\n"
          ]
        }
      ]
    },
    {
      "cell_type": "code",
      "source": [
        "df_branded_food['contains_shellfish'].value_counts()"
      ],
      "metadata": {
        "id": "kozoJj7JD6jY",
        "colab": {
          "base_uri": "https://localhost:8080/"
        },
        "outputId": "e3a671e8-3675-40bf-e688-65a4bf0851e9"
      },
      "execution_count": 19,
      "outputs": [
        {
          "output_type": "execute_result",
          "data": {
            "text/plain": [
              "False    192974\n",
              "True       3828\n",
              "Name: contains_shellfish, dtype: int64"
            ]
          },
          "metadata": {},
          "execution_count": 19
        }
      ]
    },
    {
      "cell_type": "code",
      "source": [
        "nuts_list = [\"Almond\", \"Walnut\", \"Cashew\", \"Pistachio\", \"Pecan\", \"Hazelnut\", \"Brazil nut\", \"Macadamia nut\", \"Pine nut\", \"Chestnut\", \"Peanut\"]"
      ],
      "metadata": {
        "id": "m_zLppqsHYqQ"
      },
      "execution_count": 20,
      "outputs": []
    },
    {
      "cell_type": "code",
      "source": [
        "words_to_search = nuts_list\n",
        "\n",
        "pattern = '|'.join(words_to_search)\n",
        "\n",
        "df_branded_food['contains_nuts'] = food_ingredients.str.contains(pattern, case=False).astype(bool)"
      ],
      "metadata": {
        "id": "cPaN-hCAH3v1"
      },
      "execution_count": 21,
      "outputs": []
    },
    {
      "cell_type": "code",
      "source": [
        "df_branded_food['contains_nuts'].value_counts()"
      ],
      "metadata": {
        "id": "Iu_b4t33JUTx",
        "colab": {
          "base_uri": "https://localhost:8080/"
        },
        "outputId": "522fa447-ef59-453f-eddc-5e7ee85f218e"
      },
      "execution_count": 22,
      "outputs": [
        {
          "output_type": "execute_result",
          "data": {
            "text/plain": [
              "False    175588\n",
              "True      21214\n",
              "Name: contains_nuts, dtype: int64"
            ]
          },
          "metadata": {},
          "execution_count": 22
        }
      ]
    },
    {
      "cell_type": "code",
      "source": [
        "diary_list = [\"Milk\", \"Diary\", \"Butter\", \"Cheese\", \"Yogurt\", \"Cream\", \"Sour cream\", \"Buttermilk\", \"Whey\", \"Casein\", \"Caseinate\", \"Curds\", \"Ghee\", \"Lactose\", \"Milkfat\", \"Half-and-half\", \"Cottage cheese\", \"Ricotta cheese\", \"Cream cheese\", \"Mascarpone\", \"Ice cream\", \"Frozen yogurt\", \"Custard\", \"Pudding\", \"Cheddar\", \"Mozzarella\", \"Parmesan\", \"Swiss\", \"Gouda\", \"Brie\", \"Feta\", \"Blue cheese\", \"Provolone\", \"Monterey Jack\", \"Colby\", \"Pepper Jack\", \"Ricotta\", \"Havarti\", \"Muenster\", \"Camembert\", \"Fontina\", \"Gruyere\", \"Edam\", \"Asiago\", \"Manchego\", \"Cotija\", \"Queso fresco\", \"Queso blanco\", \"Panela\", \"Halloumi\", \"Teleme\", \"Burrata\", \"Burrini\", \"Cottage cheese\", \"Cream cheese\", \"Neufchâtel\", \"Quark\", \"Fromage blanc\", \"Chevre (goat cheese)\", \"Roquefort\", \"Stilton\", \"Cambozola\", \"Gorgonzola\", \"Taleggio\", \"Emmental\", \"Limburger\", \"Taleggio\", \"Pecorino Romano\", \"Pecorino Toscano\", \"Manouri\", \"Myzithra\", \"Kasseri\", \"Kefalotyri\", \"Mizithra\", \"Parmigiano-Reggiano\", \"Grana Padano\", \"Ricotta salata\", \"Saganaki\", \"Sirene\", \"Tulum\", \"Tzfat\", \"Västerbottenost\", \"Wensleydale\"]"
      ],
      "metadata": {
        "id": "J1zXx_u1H6Of"
      },
      "execution_count": 23,
      "outputs": []
    },
    {
      "cell_type": "code",
      "source": [
        "words_to_search = diary_list\n",
        "\n",
        "pattern = '|'.join(words_to_search)\n",
        "\n",
        "df_branded_food['contains_diary'] = food_ingredients.str.contains(pattern, case=False).astype(bool)"
      ],
      "metadata": {
        "id": "GL5ywf_yJMxS",
        "colab": {
          "base_uri": "https://localhost:8080/"
        },
        "outputId": "397b55d8-7c4f-4754-90e4-e5bc0201c6be"
      },
      "execution_count": 24,
      "outputs": [
        {
          "output_type": "stream",
          "name": "stderr",
          "text": [
            "<ipython-input-24-64c7f7767a92>:5: UserWarning: This pattern is interpreted as a regular expression, and has match groups. To actually get the groups, use str.extract.\n",
            "  df_branded_food['contains_diary'] = food_ingredients.str.contains(pattern, case=False).astype(bool)\n"
          ]
        }
      ]
    },
    {
      "cell_type": "code",
      "source": [
        "df_branded_food['contains_diary'].value_counts()"
      ],
      "metadata": {
        "id": "fHYXyVXSJTgc",
        "colab": {
          "base_uri": "https://localhost:8080/"
        },
        "outputId": "ef33abaa-1feb-4fa5-c651-3a2cf98556c3"
      },
      "execution_count": 25,
      "outputs": [
        {
          "output_type": "execute_result",
          "data": {
            "text/plain": [
              "False    124098\n",
              "True      72704\n",
              "Name: contains_diary, dtype: int64"
            ]
          },
          "metadata": {},
          "execution_count": 25
        }
      ]
    },
    {
      "cell_type": "code",
      "source": [
        "soy_list = [\"Soybeans\", \"Tofu\", \"Tempeh\", \"Edamame\", \"Soy milk\", \"Soy sauce\", \"Miso\", \"Natto\", \"Soy flour\", \"soy\", \"bean curd\", \"tamari\", \"shoyu\", \"Soybean\", \"Textured vegetable protein\"]"
      ],
      "metadata": {
        "id": "J_AamV_JMWfv"
      },
      "execution_count": 26,
      "outputs": []
    },
    {
      "cell_type": "code",
      "source": [
        "words_to_search = soy_list\n",
        "\n",
        "pattern = '|'.join(words_to_search)\n",
        "\n",
        "df_branded_food['contains_soy'] = food_ingredients.str.contains(pattern, case=False).astype(bool)"
      ],
      "metadata": {
        "id": "iexL0hVRL2m5"
      },
      "execution_count": 27,
      "outputs": []
    },
    {
      "cell_type": "code",
      "source": [
        "egg_list = [\"Egg\",\"Eggshell\",\"Mayonnaise\",\"Mayo\",\"Bearnaise\",\"caesar\",\"custard\",\"pudding\",\"Quiche\",\"Soufflé\",\"Meringue\",\"Frittata\",\"Omelette\"]"
      ],
      "metadata": {
        "id": "tELpq8MSMaM2"
      },
      "execution_count": 28,
      "outputs": []
    },
    {
      "cell_type": "code",
      "source": [
        "words_to_search = egg_list\n",
        "\n",
        "pattern = '|'.join(words_to_search)\n",
        "\n",
        "df_branded_food['contains_egg'] = food_ingredients.str.contains(pattern, case=False).astype(bool)"
      ],
      "metadata": {
        "id": "sQcYUkvtM3jr"
      },
      "execution_count": 29,
      "outputs": []
    },
    {
      "cell_type": "code",
      "source": [
        "animal_byproducts = [\"Gelatin\", \"Tallow\", \"Lard\", \"Rennet\", \"Isinglass\", \"Fish oil\", \"Bone char\", \"Carmine\", \"Shellac\", \"Collagen\", \"Beeswax\", \"Lanolin\", \"lipase\", \"protease\", \"amylase\", \"lecithin\", \"Stearic acid \", \"Oleic acid \", \"Glycerides\", \"diglycerides\", \"monoglycerides\", \"suet\", \"Monostearate\", \"Polysorbates\", \"carmine\", \"Cochineal extract\", \"Natural red 4\", \"E120\", \"Natural red coloring\", \"Crimson lake\", \"Red food colorant\"]"
      ],
      "metadata": {
        "id": "ibmF2LnaPMMV"
      },
      "execution_count": 30,
      "outputs": []
    },
    {
      "cell_type": "code",
      "source": [
        "# This is a really hard list to nail since things like vitamins don't specify animal source so they could be anti-vegan\n",
        "\n",
        "words_to_search = animal_byproducts\n",
        "\n",
        "pattern = '|'.join(words_to_search)\n",
        "\n",
        "df_branded_food['contains_animal_byproducts'] = food_ingredients.str.contains(pattern, case=False).astype(bool)"
      ],
      "metadata": {
        "id": "7LbaTqZBPO_R"
      },
      "execution_count": 31,
      "outputs": []
    },
    {
      "cell_type": "markdown",
      "source": [
        "## Categorizing by diet"
      ],
      "metadata": {
        "id": "7X6SBJzoNEIe"
      }
    },
    {
      "cell_type": "code",
      "source": [
        "# Vegan\n",
        "\n",
        "df_branded_food[\"is_vegan\"] = ~(df_branded_food['contains_meat'] \\\n",
        "                                | df_branded_food['contains_shellfish'] \\\n",
        "                                | df_branded_food['contains_diary'] \\\n",
        "                                | df_branded_food['contains_egg'] \\\n",
        "                                | df_branded_food['contains_animal_byproducts'])"
      ],
      "metadata": {
        "id": "kyrZD9-BM9nU"
      },
      "execution_count": 32,
      "outputs": []
    },
    {
      "cell_type": "code",
      "source": [
        "# Vegetarian\n",
        "\n",
        "df_branded_food[\"is_vegetarian\"] = ~(df_branded_food['contains_meat'] \\\n",
        "                                | df_branded_food['contains_shellfish'])\n"
      ],
      "metadata": {
        "id": "uNf9JequNi2T"
      },
      "execution_count": 33,
      "outputs": []
    },
    {
      "cell_type": "code",
      "source": [
        "# Pescatarian\n",
        "\n",
        "df_branded_food[\"is_pescatarian\"] = ~df_branded_food['contains_meat']"
      ],
      "metadata": {
        "id": "TEe83gTaPjje"
      },
      "execution_count": 34,
      "outputs": []
    },
    {
      "cell_type": "code",
      "source": [
        "df_branded_food.head()"
      ],
      "metadata": {
        "id": "0geTJXXSQ1bZ",
        "colab": {
          "base_uri": "https://localhost:8080/",
          "height": 556
        },
        "outputId": "a2652864-251c-4ffb-9ffb-12b43332da5c"
      },
      "execution_count": 35,
      "outputs": [
        {
          "output_type": "execute_result",
          "data": {
            "text/plain": [
              "    fdc_id                               brand_owner brand_name  \\\n",
              "0  1105904  Richardson Oilseed Products (US) Limited        NaN   \n",
              "1  1105905                     CAMPBELL SOUP COMPANY        NaN   \n",
              "2  1105906                     CAMPBELL SOUP COMPANY        NaN   \n",
              "3  1105907                     CAMPBELL SOUP COMPANY        NaN   \n",
              "4  1105908                     CAMPBELL SOUP COMPANY        NaN   \n",
              "\n",
              "                                         ingredients  \\\n",
              "0                                      Vegetable Oil   \n",
              "1  INGREDIENTS: BEEF STOCK, CONTAINS LESS THAN 2%...   \n",
              "2  INGREDIENTS: CLAM STOCK, POTATOES, CLAMS, CREA...   \n",
              "3  INGREDIENTS: WATER, CREAM, BROCCOLI, CELERY, V...   \n",
              "4  INGREDIENTS: CHICKEN STOCK, CONTAINS LESS THAN...   \n",
              "\n",
              "   not_a_significant_source_of  branded_food_category  is_gluten  \\\n",
              "0                          NaN            Oils Edible      False   \n",
              "1                          NaN  Herbs/Spices/Extracts      False   \n",
              "2                          NaN         Prepared Soups      False   \n",
              "3                          NaN         Prepared Soups      False   \n",
              "4                          NaN  Herbs/Spices/Extracts      False   \n",
              "\n",
              "   contains_meat  contains_shellfish  contains_nuts  contains_diary  \\\n",
              "0          False               False          False           False   \n",
              "1           True               False          False           False   \n",
              "2           True                True          False            True   \n",
              "3          False               False          False            True   \n",
              "4           True               False          False           False   \n",
              "\n",
              "   contains_soy  contains_egg  contains_animal_byproducts  is_vegan  \\\n",
              "0         False         False                       False      True   \n",
              "1         False         False                       False     False   \n",
              "2          True         False                        True     False   \n",
              "3          True         False                        True     False   \n",
              "4         False         False                       False     False   \n",
              "\n",
              "   is_vegetarian  is_pescatarian  \n",
              "0           True            True  \n",
              "1          False           False  \n",
              "2          False           False  \n",
              "3           True            True  \n",
              "4          False           False  "
            ],
            "text/html": [
              "\n",
              "  <div id=\"df-8e25359e-e698-4967-87f2-1dd73c5d7792\" class=\"colab-df-container\">\n",
              "    <div>\n",
              "<style scoped>\n",
              "    .dataframe tbody tr th:only-of-type {\n",
              "        vertical-align: middle;\n",
              "    }\n",
              "\n",
              "    .dataframe tbody tr th {\n",
              "        vertical-align: top;\n",
              "    }\n",
              "\n",
              "    .dataframe thead th {\n",
              "        text-align: right;\n",
              "    }\n",
              "</style>\n",
              "<table border=\"1\" class=\"dataframe\">\n",
              "  <thead>\n",
              "    <tr style=\"text-align: right;\">\n",
              "      <th></th>\n",
              "      <th>fdc_id</th>\n",
              "      <th>brand_owner</th>\n",
              "      <th>brand_name</th>\n",
              "      <th>ingredients</th>\n",
              "      <th>not_a_significant_source_of</th>\n",
              "      <th>branded_food_category</th>\n",
              "      <th>is_gluten</th>\n",
              "      <th>contains_meat</th>\n",
              "      <th>contains_shellfish</th>\n",
              "      <th>contains_nuts</th>\n",
              "      <th>contains_diary</th>\n",
              "      <th>contains_soy</th>\n",
              "      <th>contains_egg</th>\n",
              "      <th>contains_animal_byproducts</th>\n",
              "      <th>is_vegan</th>\n",
              "      <th>is_vegetarian</th>\n",
              "      <th>is_pescatarian</th>\n",
              "    </tr>\n",
              "  </thead>\n",
              "  <tbody>\n",
              "    <tr>\n",
              "      <th>0</th>\n",
              "      <td>1105904</td>\n",
              "      <td>Richardson Oilseed Products (US) Limited</td>\n",
              "      <td>NaN</td>\n",
              "      <td>Vegetable Oil</td>\n",
              "      <td>NaN</td>\n",
              "      <td>Oils Edible</td>\n",
              "      <td>False</td>\n",
              "      <td>False</td>\n",
              "      <td>False</td>\n",
              "      <td>False</td>\n",
              "      <td>False</td>\n",
              "      <td>False</td>\n",
              "      <td>False</td>\n",
              "      <td>False</td>\n",
              "      <td>True</td>\n",
              "      <td>True</td>\n",
              "      <td>True</td>\n",
              "    </tr>\n",
              "    <tr>\n",
              "      <th>1</th>\n",
              "      <td>1105905</td>\n",
              "      <td>CAMPBELL SOUP COMPANY</td>\n",
              "      <td>NaN</td>\n",
              "      <td>INGREDIENTS: BEEF STOCK, CONTAINS LESS THAN 2%...</td>\n",
              "      <td>NaN</td>\n",
              "      <td>Herbs/Spices/Extracts</td>\n",
              "      <td>False</td>\n",
              "      <td>True</td>\n",
              "      <td>False</td>\n",
              "      <td>False</td>\n",
              "      <td>False</td>\n",
              "      <td>False</td>\n",
              "      <td>False</td>\n",
              "      <td>False</td>\n",
              "      <td>False</td>\n",
              "      <td>False</td>\n",
              "      <td>False</td>\n",
              "    </tr>\n",
              "    <tr>\n",
              "      <th>2</th>\n",
              "      <td>1105906</td>\n",
              "      <td>CAMPBELL SOUP COMPANY</td>\n",
              "      <td>NaN</td>\n",
              "      <td>INGREDIENTS: CLAM STOCK, POTATOES, CLAMS, CREA...</td>\n",
              "      <td>NaN</td>\n",
              "      <td>Prepared Soups</td>\n",
              "      <td>False</td>\n",
              "      <td>True</td>\n",
              "      <td>True</td>\n",
              "      <td>False</td>\n",
              "      <td>True</td>\n",
              "      <td>True</td>\n",
              "      <td>False</td>\n",
              "      <td>True</td>\n",
              "      <td>False</td>\n",
              "      <td>False</td>\n",
              "      <td>False</td>\n",
              "    </tr>\n",
              "    <tr>\n",
              "      <th>3</th>\n",
              "      <td>1105907</td>\n",
              "      <td>CAMPBELL SOUP COMPANY</td>\n",
              "      <td>NaN</td>\n",
              "      <td>INGREDIENTS: WATER, CREAM, BROCCOLI, CELERY, V...</td>\n",
              "      <td>NaN</td>\n",
              "      <td>Prepared Soups</td>\n",
              "      <td>False</td>\n",
              "      <td>False</td>\n",
              "      <td>False</td>\n",
              "      <td>False</td>\n",
              "      <td>True</td>\n",
              "      <td>True</td>\n",
              "      <td>False</td>\n",
              "      <td>True</td>\n",
              "      <td>False</td>\n",
              "      <td>True</td>\n",
              "      <td>True</td>\n",
              "    </tr>\n",
              "    <tr>\n",
              "      <th>4</th>\n",
              "      <td>1105908</td>\n",
              "      <td>CAMPBELL SOUP COMPANY</td>\n",
              "      <td>NaN</td>\n",
              "      <td>INGREDIENTS: CHICKEN STOCK, CONTAINS LESS THAN...</td>\n",
              "      <td>NaN</td>\n",
              "      <td>Herbs/Spices/Extracts</td>\n",
              "      <td>False</td>\n",
              "      <td>True</td>\n",
              "      <td>False</td>\n",
              "      <td>False</td>\n",
              "      <td>False</td>\n",
              "      <td>False</td>\n",
              "      <td>False</td>\n",
              "      <td>False</td>\n",
              "      <td>False</td>\n",
              "      <td>False</td>\n",
              "      <td>False</td>\n",
              "    </tr>\n",
              "  </tbody>\n",
              "</table>\n",
              "</div>\n",
              "    <div class=\"colab-df-buttons\">\n",
              "\n",
              "  <div class=\"colab-df-container\">\n",
              "    <button class=\"colab-df-convert\" onclick=\"convertToInteractive('df-8e25359e-e698-4967-87f2-1dd73c5d7792')\"\n",
              "            title=\"Convert this dataframe to an interactive table.\"\n",
              "            style=\"display:none;\">\n",
              "\n",
              "  <svg xmlns=\"http://www.w3.org/2000/svg\" height=\"24px\" viewBox=\"0 -960 960 960\">\n",
              "    <path d=\"M120-120v-720h720v720H120Zm60-500h600v-160H180v160Zm220 220h160v-160H400v160Zm0 220h160v-160H400v160ZM180-400h160v-160H180v160Zm440 0h160v-160H620v160ZM180-180h160v-160H180v160Zm440 0h160v-160H620v160Z\"/>\n",
              "  </svg>\n",
              "    </button>\n",
              "\n",
              "  <style>\n",
              "    .colab-df-container {\n",
              "      display:flex;\n",
              "      gap: 12px;\n",
              "    }\n",
              "\n",
              "    .colab-df-convert {\n",
              "      background-color: #E8F0FE;\n",
              "      border: none;\n",
              "      border-radius: 50%;\n",
              "      cursor: pointer;\n",
              "      display: none;\n",
              "      fill: #1967D2;\n",
              "      height: 32px;\n",
              "      padding: 0 0 0 0;\n",
              "      width: 32px;\n",
              "    }\n",
              "\n",
              "    .colab-df-convert:hover {\n",
              "      background-color: #E2EBFA;\n",
              "      box-shadow: 0px 1px 2px rgba(60, 64, 67, 0.3), 0px 1px 3px 1px rgba(60, 64, 67, 0.15);\n",
              "      fill: #174EA6;\n",
              "    }\n",
              "\n",
              "    .colab-df-buttons div {\n",
              "      margin-bottom: 4px;\n",
              "    }\n",
              "\n",
              "    [theme=dark] .colab-df-convert {\n",
              "      background-color: #3B4455;\n",
              "      fill: #D2E3FC;\n",
              "    }\n",
              "\n",
              "    [theme=dark] .colab-df-convert:hover {\n",
              "      background-color: #434B5C;\n",
              "      box-shadow: 0px 1px 3px 1px rgba(0, 0, 0, 0.15);\n",
              "      filter: drop-shadow(0px 1px 2px rgba(0, 0, 0, 0.3));\n",
              "      fill: #FFFFFF;\n",
              "    }\n",
              "  </style>\n",
              "\n",
              "    <script>\n",
              "      const buttonEl =\n",
              "        document.querySelector('#df-8e25359e-e698-4967-87f2-1dd73c5d7792 button.colab-df-convert');\n",
              "      buttonEl.style.display =\n",
              "        google.colab.kernel.accessAllowed ? 'block' : 'none';\n",
              "\n",
              "      async function convertToInteractive(key) {\n",
              "        const element = document.querySelector('#df-8e25359e-e698-4967-87f2-1dd73c5d7792');\n",
              "        const dataTable =\n",
              "          await google.colab.kernel.invokeFunction('convertToInteractive',\n",
              "                                                    [key], {});\n",
              "        if (!dataTable) return;\n",
              "\n",
              "        const docLinkHtml = 'Like what you see? Visit the ' +\n",
              "          '<a target=\"_blank\" href=https://colab.research.google.com/notebooks/data_table.ipynb>data table notebook</a>'\n",
              "          + ' to learn more about interactive tables.';\n",
              "        element.innerHTML = '';\n",
              "        dataTable['output_type'] = 'display_data';\n",
              "        await google.colab.output.renderOutput(dataTable, element);\n",
              "        const docLink = document.createElement('div');\n",
              "        docLink.innerHTML = docLinkHtml;\n",
              "        element.appendChild(docLink);\n",
              "      }\n",
              "    </script>\n",
              "  </div>\n",
              "\n",
              "\n",
              "<div id=\"df-df4b1e63-844a-494f-9cd6-914435eca77c\">\n",
              "  <button class=\"colab-df-quickchart\" onclick=\"quickchart('df-df4b1e63-844a-494f-9cd6-914435eca77c')\"\n",
              "            title=\"Suggest charts\"\n",
              "            style=\"display:none;\">\n",
              "\n",
              "<svg xmlns=\"http://www.w3.org/2000/svg\" height=\"24px\"viewBox=\"0 0 24 24\"\n",
              "     width=\"24px\">\n",
              "    <g>\n",
              "        <path d=\"M19 3H5c-1.1 0-2 .9-2 2v14c0 1.1.9 2 2 2h14c1.1 0 2-.9 2-2V5c0-1.1-.9-2-2-2zM9 17H7v-7h2v7zm4 0h-2V7h2v10zm4 0h-2v-4h2v4z\"/>\n",
              "    </g>\n",
              "</svg>\n",
              "  </button>\n",
              "\n",
              "<style>\n",
              "  .colab-df-quickchart {\n",
              "      --bg-color: #E8F0FE;\n",
              "      --fill-color: #1967D2;\n",
              "      --hover-bg-color: #E2EBFA;\n",
              "      --hover-fill-color: #174EA6;\n",
              "      --disabled-fill-color: #AAA;\n",
              "      --disabled-bg-color: #DDD;\n",
              "  }\n",
              "\n",
              "  [theme=dark] .colab-df-quickchart {\n",
              "      --bg-color: #3B4455;\n",
              "      --fill-color: #D2E3FC;\n",
              "      --hover-bg-color: #434B5C;\n",
              "      --hover-fill-color: #FFFFFF;\n",
              "      --disabled-bg-color: #3B4455;\n",
              "      --disabled-fill-color: #666;\n",
              "  }\n",
              "\n",
              "  .colab-df-quickchart {\n",
              "    background-color: var(--bg-color);\n",
              "    border: none;\n",
              "    border-radius: 50%;\n",
              "    cursor: pointer;\n",
              "    display: none;\n",
              "    fill: var(--fill-color);\n",
              "    height: 32px;\n",
              "    padding: 0;\n",
              "    width: 32px;\n",
              "  }\n",
              "\n",
              "  .colab-df-quickchart:hover {\n",
              "    background-color: var(--hover-bg-color);\n",
              "    box-shadow: 0 1px 2px rgba(60, 64, 67, 0.3), 0 1px 3px 1px rgba(60, 64, 67, 0.15);\n",
              "    fill: var(--button-hover-fill-color);\n",
              "  }\n",
              "\n",
              "  .colab-df-quickchart-complete:disabled,\n",
              "  .colab-df-quickchart-complete:disabled:hover {\n",
              "    background-color: var(--disabled-bg-color);\n",
              "    fill: var(--disabled-fill-color);\n",
              "    box-shadow: none;\n",
              "  }\n",
              "\n",
              "  .colab-df-spinner {\n",
              "    border: 2px solid var(--fill-color);\n",
              "    border-color: transparent;\n",
              "    border-bottom-color: var(--fill-color);\n",
              "    animation:\n",
              "      spin 1s steps(1) infinite;\n",
              "  }\n",
              "\n",
              "  @keyframes spin {\n",
              "    0% {\n",
              "      border-color: transparent;\n",
              "      border-bottom-color: var(--fill-color);\n",
              "      border-left-color: var(--fill-color);\n",
              "    }\n",
              "    20% {\n",
              "      border-color: transparent;\n",
              "      border-left-color: var(--fill-color);\n",
              "      border-top-color: var(--fill-color);\n",
              "    }\n",
              "    30% {\n",
              "      border-color: transparent;\n",
              "      border-left-color: var(--fill-color);\n",
              "      border-top-color: var(--fill-color);\n",
              "      border-right-color: var(--fill-color);\n",
              "    }\n",
              "    40% {\n",
              "      border-color: transparent;\n",
              "      border-right-color: var(--fill-color);\n",
              "      border-top-color: var(--fill-color);\n",
              "    }\n",
              "    60% {\n",
              "      border-color: transparent;\n",
              "      border-right-color: var(--fill-color);\n",
              "    }\n",
              "    80% {\n",
              "      border-color: transparent;\n",
              "      border-right-color: var(--fill-color);\n",
              "      border-bottom-color: var(--fill-color);\n",
              "    }\n",
              "    90% {\n",
              "      border-color: transparent;\n",
              "      border-bottom-color: var(--fill-color);\n",
              "    }\n",
              "  }\n",
              "</style>\n",
              "\n",
              "  <script>\n",
              "    async function quickchart(key) {\n",
              "      const quickchartButtonEl =\n",
              "        document.querySelector('#' + key + ' button');\n",
              "      quickchartButtonEl.disabled = true;  // To prevent multiple clicks.\n",
              "      quickchartButtonEl.classList.add('colab-df-spinner');\n",
              "      try {\n",
              "        const charts = await google.colab.kernel.invokeFunction(\n",
              "            'suggestCharts', [key], {});\n",
              "      } catch (error) {\n",
              "        console.error('Error during call to suggestCharts:', error);\n",
              "      }\n",
              "      quickchartButtonEl.classList.remove('colab-df-spinner');\n",
              "      quickchartButtonEl.classList.add('colab-df-quickchart-complete');\n",
              "    }\n",
              "    (() => {\n",
              "      let quickchartButtonEl =\n",
              "        document.querySelector('#df-df4b1e63-844a-494f-9cd6-914435eca77c button');\n",
              "      quickchartButtonEl.style.display =\n",
              "        google.colab.kernel.accessAllowed ? 'block' : 'none';\n",
              "    })();\n",
              "  </script>\n",
              "</div>\n",
              "    </div>\n",
              "  </div>\n"
            ],
            "application/vnd.google.colaboratory.intrinsic+json": {
              "type": "dataframe",
              "variable_name": "df_branded_food"
            }
          },
          "metadata": {},
          "execution_count": 35
        }
      ]
    },
    {
      "cell_type": "markdown",
      "source": [
        "# Writing to a new csv"
      ],
      "metadata": {
        "id": "mrQk19yL3oED"
      }
    },
    {
      "cell_type": "code",
      "source": [
        "df_branded_food.to_csv('data.csv', index=False)"
      ],
      "metadata": {
        "id": "PkxUcj963LYW"
      },
      "execution_count": 36,
      "outputs": []
    },
    {
      "cell_type": "markdown",
      "source": [],
      "metadata": {
        "id": "uLnb_PtT9YAn"
      }
    },
    {
      "cell_type": "code",
      "source": [],
      "metadata": {
        "id": "mZcPTHcR3yrl"
      },
      "execution_count": null,
      "outputs": []
    }
  ]
}